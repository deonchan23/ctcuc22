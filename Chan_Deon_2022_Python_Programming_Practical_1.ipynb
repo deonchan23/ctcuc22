{
  "nbformat": 4,
  "nbformat_minor": 0,
  "metadata": {
    "colab": {
      "name": "Chan Deon - 2022_Python_Programming_Practical_1.ipynb",
      "provenance": [],
      "collapsed_sections": [],
      "include_colab_link": true
    },
    "kernelspec": {
      "name": "python3",
      "display_name": "Python 3"
    }
  },
  "cells": [
    {
      "cell_type": "markdown",
      "metadata": {
        "id": "view-in-github",
        "colab_type": "text"
      },
      "source": [
        "<a href=\"https://colab.research.google.com/github/deonchan23/ctcuc22/blob/main/Chan_Deon_2022_Python_Programming_Practical_1.ipynb\" target=\"_parent\"><img src=\"https://colab.research.google.com/assets/colab-badge.svg\" alt=\"Open In Colab\"/></a>"
      ]
    },
    {
      "cell_type": "markdown",
      "metadata": {
        "id": "jp3BkDml8xiR"
      },
      "source": [
        "# **2022 Python Programming Practical 1**\n",
        "\n",
        "If you do not have one already, create a [GitHub](https://github.com) account.\n",
        "\n",
        "Create a public repository ctcuc22\n",
        "\n",
        "File --> Save a copy in GitHub under this repository\n",
        "\n",
        "For the following questions,\n",
        "\n",
        "*   standard input: keyboard\n",
        "*   standard output: screen\n",
        "\n"
      ]
    },
    {
      "cell_type": "markdown",
      "metadata": {
        "id": "-U8w0oQW9P_b"
      },
      "source": [
        "**Q1. (Converting Fahrenheit to Celsius)**\n",
        "\n",
        "Write a program that reads a Fahrenheit degree as a float from standard input, then converts it to Celsius and displays the result in standard output. The formula for the conversion is:\n",
        "```\n",
        "celsius = (5/9) * (fahrenheit - 32)\n",
        "```"
      ]
    },
    {
      "cell_type": "code",
      "metadata": {
        "id": "D0uTR7B-8qbF",
        "colab": {
          "base_uri": "https://localhost:8080/"
        },
        "outputId": "3bdef3d4-658d-4d8e-fb54-d87399845fd0"
      },
      "source": [
        "#get input\n",
        "fahrenheit = float(input(\"Enter temperature in degrees Fahrenheit: \"))\n",
        "\n",
        "#process data\n",
        "celsius = (5/9) * (fahrenheit - 32)\n",
        "\n",
        "#return output\n",
        "print(str(round(celsius, 1))+\" degrees Celsius\")"
      ],
      "execution_count": null,
      "outputs": [
        {
          "output_type": "stream",
          "name": "stdout",
          "text": [
            "Enter temperature in degrees Fahrenheit: 70\n",
            "21.1 degrees Celsius\n"
          ]
        }
      ]
    },
    {
      "cell_type": "markdown",
      "metadata": {
        "id": "7Ui5CuS_9Za1"
      },
      "source": [
        "**Q2. (Computing the volume of a cylinder)**\n",
        "\n",
        "Write a program that reads in the radius and length of a cylinder and computes its volume using the formulae:\n",
        "```\n",
        "area = radius * radius * pi\n",
        "volume = area * length\n",
        "```\n",
        "\n",
        "\n"
      ]
    },
    {
      "cell_type": "code",
      "metadata": {
        "id": "CfkRAAWV9cXS",
        "colab": {
          "base_uri": "https://localhost:8080/"
        },
        "outputId": "e774da1f-cd55-4e75-e2eb-aba2bd523954"
      },
      "source": [
        "import math\n",
        "\n",
        "#get input\n",
        "radius = float(input(\"Enter radius in cm: \"))\n",
        "length = float(input(\"Enter length in cm: \"))\n",
        "\n",
        "#process data\n",
        "area = radius * radius * math.pi\n",
        "volume = area*length\n",
        "\n",
        "#return output\n",
        "print(round(volume, 1))"
      ],
      "execution_count": null,
      "outputs": [
        {
          "output_type": "stream",
          "name": "stdout",
          "text": [
            "Enter radius in cm: 1\n",
            "Enter length in cm: 1\n",
            "3.1\n"
          ]
        }
      ]
    },
    {
      "cell_type": "markdown",
      "metadata": {
        "id": "aVhHiT8w9c7d"
      },
      "source": [
        "**Q3. (Converting miles into kilometers)**\n",
        "\n",
        "Write a program that reads a number in miles, converts it to kilometres, and outputs the result. One mile is 1.60934 kilometres. Display your answer correct to 3 decimal places."
      ]
    },
    {
      "cell_type": "code",
      "source": [
        "#get input\n",
        "miles = float(input(\"Enter miles: \"))\n",
        "\n",
        "#process data\n",
        "km = miles*1.60934\n",
        "\n",
        "#return output\n",
        "print(round(km, 3))"
      ],
      "metadata": {
        "colab": {
          "base_uri": "https://localhost:8080/"
        },
        "id": "GEBPQIabuWKj",
        "outputId": "9785d7cf-ee29-4a98-e26f-73fcf0fc63cd"
      },
      "execution_count": null,
      "outputs": [
        {
          "output_type": "stream",
          "name": "stdout",
          "text": [
            "Enter miles: 10\n",
            "16.093\n"
          ]
        }
      ]
    },
    {
      "cell_type": "code",
      "metadata": {
        "id": "PwRmweEa9fny"
      },
      "source": [
        ""
      ],
      "execution_count": null,
      "outputs": []
    },
    {
      "cell_type": "markdown",
      "metadata": {
        "id": "GwAIqQNY9gFd"
      },
      "source": [
        "**Q4. (Summing the digits in an integer)**\n",
        "\n",
        "Write a program that reads an integer between 0 and 1000 and adds all the digits in the integer. For example, if an integer is 932, the sum of all its digits is 14.\n",
        "\n",
        "Hint: Use the % operator to extract digits, and use the // operator to remove the extracted digit. For instance, 932 % 10 = 2 and 932 // 10 = 93"
      ]
    },
    {
      "cell_type": "code",
      "metadata": {
        "id": "aOozTwoR9j9B",
        "colab": {
          "base_uri": "https://localhost:8080/"
        },
        "outputId": "576d26d8-82eb-499f-9b8f-4ec9c2e1311e"
      },
      "source": [
        "#get input\n",
        "number = int(input(\"Enter number between 0 and 1000: \"))\n",
        "\n",
        "#process data\n",
        "ones = number % 10\n",
        "left_1 = number // 10\n",
        "tens = left_1 % 10\n",
        "hundreds = left_1 // 10\n",
        "\n",
        "#return output\n",
        "print(ones+tens+hundreds)"
      ],
      "execution_count": null,
      "outputs": [
        {
          "output_type": "stream",
          "name": "stdout",
          "text": [
            "Enter number between 0 and 1000: 99\n",
            "18\n"
          ]
        }
      ]
    },
    {
      "cell_type": "markdown",
      "metadata": {
        "id": "lE0ScX9e9kcg"
      },
      "source": [
        "**Q5. (Converting an uppercase letter to lowercase)**\n",
        "\n",
        "Write a program that converts an uppercase letter from standard input to a lowercase letter by making use of its ASCII value.\n",
        "\n",
        "http://www.asciitable.com"
      ]
    },
    {
      "cell_type": "code",
      "metadata": {
        "id": "sE_bxwDs9mf6",
        "outputId": "923d3c9a-ed76-4bd2-ca32-4ac2ce381df9",
        "colab": {
          "base_uri": "https://localhost:8080/"
        }
      },
      "source": [
        "#get input\n",
        "upper = input(\"Enter uppercase letter: \")\n",
        "\n",
        "#process data\n",
        "lower = ord(upper) + 32 # ordinal\n",
        "\n",
        "#return output\n",
        "print(chr(lower))"
      ],
      "execution_count": null,
      "outputs": [
        {
          "output_type": "stream",
          "name": "stdout",
          "text": [
            "Enter uppercase letter: H\n",
            "h\n"
          ]
        }
      ]
    },
    {
      "cell_type": "markdown",
      "metadata": {
        "id": "KSviQY0T9m7Q"
      },
      "source": [
        "**Q6. (Finding the character of an ASCII code)**\n",
        "\n",
        "Write a program that receives an ASCII value (an integer between 0 and 127) and displays its character. For example, if the user enters 97, the program displays character a.\n",
        "\n",
        "http://www.asciitable.com"
      ]
    },
    {
      "cell_type": "code",
      "metadata": {
        "id": "YbH9Pbul9rK-",
        "colab": {
          "base_uri": "https://localhost:8080/"
        },
        "outputId": "9c6e9894-2a4b-4d24-c02f-338f9a8dbc4f"
      },
      "source": [
        "#get input\n",
        "value = int(input(\"Enter ASCII value: \"))\n",
        "\n",
        "#process and return output\n",
        "print(chr(value))"
      ],
      "execution_count": null,
      "outputs": [
        {
          "output_type": "stream",
          "name": "stdout",
          "text": [
            "Enter ASCII value: 126\n",
            "~\n"
          ]
        }
      ]
    },
    {
      "cell_type": "markdown",
      "metadata": {
        "id": "V9Z95nlg97e4"
      },
      "source": [
        "**Q7. (Payroll)**\n",
        "\n",
        "Write a program that reads in the following information and prints a payroll statement. A sample input and output session is as follows:\n",
        "\n",
        "Sample input:\n",
        "```\n",
        "Enter name: Lim Ah Seng\n",
        "Enter number of hours worked weekly: 10\n",
        "Enter hourly pay rate: 6.75\n",
        "Enter CPF contribution rate(%): 20\n",
        "```\n",
        "\n",
        "Sample output:\n",
        "```\n",
        "Payroll statement for Lim Ah Seng\n",
        "Number of hours worked in week: 10\n",
        "Hourly pay rate: $6.75\n",
        "Gross pay = $67.50\n",
        "CPF contribution at 20% = $13.50\n",
        "Net pay = $54.00\n",
        "```\n",
        "\n"
      ]
    },
    {
      "cell_type": "code",
      "metadata": {
        "id": "1AZvvAW499PK",
        "colab": {
          "base_uri": "https://localhost:8080/"
        },
        "outputId": "713fcf62-b95b-475b-ede1-7e8458780816"
      },
      "source": [
        "#get input\n",
        "name = input(\"Enter name: \")\n",
        "hours = int(input(\"Enter number of hours worked weekly: \"))\n",
        "rate = float(input(\"Enter hourly pay rate: \"))\n",
        "cpf = int(input(\"Enter CPF contribution rate(%): \"))\n",
        "\n",
        "#process data\n",
        "gross = round(hours*rate, 2)\n",
        "contribution = round(cpf/100*float(gross), 2)\n",
        "net = round(gross-contribution, 2)\n",
        "\n",
        "#return output\n",
        "print(\" \")\n",
        "print(\"Payroll statement for \"+name)\n",
        "print(\"Number of hours worked in week: \"+str(hours))\n",
        "print(\"Hourly pay rate: $\"+'{:.2f}'.format(rate))\n",
        "print(\"Gross pay = $\"+'{:.2f}'.format(gross))\n",
        "print(\"CPF contribution at \"+str(cpf)+\"% = $\"+'{:.2f}'.format(contribution))\n",
        "print(\"Net pay = $\"+'{:.2f}'.format(net))"
      ],
      "execution_count": null,
      "outputs": [
        {
          "output_type": "stream",
          "name": "stdout",
          "text": [
            "Enter name: Lim Ah Seng\n",
            "Enter number of hours worked weekly: 10\n",
            "Enter hourly pay rate: 6.75\n",
            "Enter CPF contribution rate(%): 20\n",
            " \n",
            "Payroll statement for Lim Ah Seng\n",
            "Number of hours worked in week: 10\n",
            "Hourly pay rate: $6.75\n",
            "Gross pay = $67.50\n",
            "CPF contribution at 20% = $13.50\n",
            "Net pay = $54.00\n"
          ]
        }
      ]
    }
  ]
}